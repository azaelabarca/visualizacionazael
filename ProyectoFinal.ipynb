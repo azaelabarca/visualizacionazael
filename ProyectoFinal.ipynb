{
  "nbformat": 4,
  "nbformat_minor": 0,
  "metadata": {
    "colab": {
      "provenance": [],
      "authorship_tag": "ABX9TyMavB+QXAKiJIl8gRZ+6B/F",
      "include_colab_link": true
    },
    "kernelspec": {
      "name": "python3",
      "display_name": "Python 3"
    },
    "language_info": {
      "name": "python"
    }
  },
  "cells": [
    {
      "cell_type": "markdown",
      "metadata": {
        "id": "view-in-github",
        "colab_type": "text"
      },
      "source": [
        "<a href=\"https://colab.research.google.com/github/azaelabarca/visualizacionazael/blob/main/ProyectoFinal.ipynb\" target=\"_parent\"><img src=\"https://colab.research.google.com/assets/colab-badge.svg\" alt=\"Open In Colab\"/></a>"
      ]
    },
    {
      "cell_type": "markdown",
      "source": [
        "## Analisis de covid en diferentes paises\n",
        "\n",
        "Azael Eugenio Abarca López\n",
        "A00831474"
      ],
      "metadata": {
        "id": "tYmYdjJy3X4n"
      }
    },
    {
      "cell_type": "code",
      "execution_count": 21,
      "metadata": {
        "id": "2ZyACBmTfPL8"
      },
      "outputs": [],
      "source": [
        "path = 'https://raw.githubusercontent.com/azaelabarca/visualizacionazael/main/datasets/covid_worldwide.csv' \n",
        "\n",
        "import pandas as pd\n",
        "import numpy as np\n",
        "import seaborn as sns\n",
        "import matplotlib as mpl\n",
        "import matplotlib.pyplot as plt"
      ]
    },
    {
      "cell_type": "code",
      "source": [
        "df = pd.read_csv(path)\n",
        "df.head()"
      ],
      "metadata": {
        "id": "wI1sDHxuf4e0"
      },
      "execution_count": null,
      "outputs": []
    },
    {
      "cell_type": "markdown",
      "source": [
        "# Descpricpción de la base de datos \n",
        "\n",
        "Esta base nos muestra varios datos importantes del covid en varios paises alrededor del mundo\n"
      ],
      "metadata": {
        "id": "nJq0iin13pOz"
      }
    },
    {
      "cell_type": "code",
      "source": [
        "df.drop('Serial Number', axis=1, inplace=True)"
      ],
      "metadata": {
        "id": "tRNMWKKut7O1"
      },
      "execution_count": 23,
      "outputs": []
    },
    {
      "cell_type": "code",
      "source": [
        "df.head()"
      ],
      "metadata": {
        "colab": {
          "base_uri": "https://localhost:8080/",
          "height": 206
        },
        "id": "HUOeqEa8wjVk",
        "outputId": "9b8341db-5cd3-43e3-d3da-45e417f58da4"
      },
      "execution_count": 24,
      "outputs": [
        {
          "output_type": "execute_result",
          "data": {
            "text/plain": [
              "   Country  Total Cases Total Deaths Total Recovered Active Cases  \\\n",
              "0      USA  104,196,861    1,132,935     101,322,779    1,741,147   \n",
              "1    India   44,682,784      530,740      44,150,289        1,755   \n",
              "2   France   39,524,311      164,233      39,264,546       95,532   \n",
              "3  Germany   37,779,833      165,711      37,398,100      216,022   \n",
              "4   Brazil   36,824,580      697,074      35,919,372      208,134   \n",
              "\n",
              "      Total Test     Population  \n",
              "0  1,159,832,679    334,805,269  \n",
              "1    915,265,788  1,406,631,776  \n",
              "2    271,490,188     65,584,518  \n",
              "3    122,332,384     83,883,596  \n",
              "4     63,776,166    215,353,593  "
            ],
            "text/html": [
              "\n",
              "  <div id=\"df-d56f68d2-2527-4b98-9b20-bd128e464a99\">\n",
              "    <div class=\"colab-df-container\">\n",
              "      <div>\n",
              "<style scoped>\n",
              "    .dataframe tbody tr th:only-of-type {\n",
              "        vertical-align: middle;\n",
              "    }\n",
              "\n",
              "    .dataframe tbody tr th {\n",
              "        vertical-align: top;\n",
              "    }\n",
              "\n",
              "    .dataframe thead th {\n",
              "        text-align: right;\n",
              "    }\n",
              "</style>\n",
              "<table border=\"1\" class=\"dataframe\">\n",
              "  <thead>\n",
              "    <tr style=\"text-align: right;\">\n",
              "      <th></th>\n",
              "      <th>Country</th>\n",
              "      <th>Total Cases</th>\n",
              "      <th>Total Deaths</th>\n",
              "      <th>Total Recovered</th>\n",
              "      <th>Active Cases</th>\n",
              "      <th>Total Test</th>\n",
              "      <th>Population</th>\n",
              "    </tr>\n",
              "  </thead>\n",
              "  <tbody>\n",
              "    <tr>\n",
              "      <th>0</th>\n",
              "      <td>USA</td>\n",
              "      <td>104,196,861</td>\n",
              "      <td>1,132,935</td>\n",
              "      <td>101,322,779</td>\n",
              "      <td>1,741,147</td>\n",
              "      <td>1,159,832,679</td>\n",
              "      <td>334,805,269</td>\n",
              "    </tr>\n",
              "    <tr>\n",
              "      <th>1</th>\n",
              "      <td>India</td>\n",
              "      <td>44,682,784</td>\n",
              "      <td>530,740</td>\n",
              "      <td>44,150,289</td>\n",
              "      <td>1,755</td>\n",
              "      <td>915,265,788</td>\n",
              "      <td>1,406,631,776</td>\n",
              "    </tr>\n",
              "    <tr>\n",
              "      <th>2</th>\n",
              "      <td>France</td>\n",
              "      <td>39,524,311</td>\n",
              "      <td>164,233</td>\n",
              "      <td>39,264,546</td>\n",
              "      <td>95,532</td>\n",
              "      <td>271,490,188</td>\n",
              "      <td>65,584,518</td>\n",
              "    </tr>\n",
              "    <tr>\n",
              "      <th>3</th>\n",
              "      <td>Germany</td>\n",
              "      <td>37,779,833</td>\n",
              "      <td>165,711</td>\n",
              "      <td>37,398,100</td>\n",
              "      <td>216,022</td>\n",
              "      <td>122,332,384</td>\n",
              "      <td>83,883,596</td>\n",
              "    </tr>\n",
              "    <tr>\n",
              "      <th>4</th>\n",
              "      <td>Brazil</td>\n",
              "      <td>36,824,580</td>\n",
              "      <td>697,074</td>\n",
              "      <td>35,919,372</td>\n",
              "      <td>208,134</td>\n",
              "      <td>63,776,166</td>\n",
              "      <td>215,353,593</td>\n",
              "    </tr>\n",
              "  </tbody>\n",
              "</table>\n",
              "</div>\n",
              "      <button class=\"colab-df-convert\" onclick=\"convertToInteractive('df-d56f68d2-2527-4b98-9b20-bd128e464a99')\"\n",
              "              title=\"Convert this dataframe to an interactive table.\"\n",
              "              style=\"display:none;\">\n",
              "        \n",
              "  <svg xmlns=\"http://www.w3.org/2000/svg\" height=\"24px\"viewBox=\"0 0 24 24\"\n",
              "       width=\"24px\">\n",
              "    <path d=\"M0 0h24v24H0V0z\" fill=\"none\"/>\n",
              "    <path d=\"M18.56 5.44l.94 2.06.94-2.06 2.06-.94-2.06-.94-.94-2.06-.94 2.06-2.06.94zm-11 1L8.5 8.5l.94-2.06 2.06-.94-2.06-.94L8.5 2.5l-.94 2.06-2.06.94zm10 10l.94 2.06.94-2.06 2.06-.94-2.06-.94-.94-2.06-.94 2.06-2.06.94z\"/><path d=\"M17.41 7.96l-1.37-1.37c-.4-.4-.92-.59-1.43-.59-.52 0-1.04.2-1.43.59L10.3 9.45l-7.72 7.72c-.78.78-.78 2.05 0 2.83L4 21.41c.39.39.9.59 1.41.59.51 0 1.02-.2 1.41-.59l7.78-7.78 2.81-2.81c.8-.78.8-2.07 0-2.86zM5.41 20L4 18.59l7.72-7.72 1.47 1.35L5.41 20z\"/>\n",
              "  </svg>\n",
              "      </button>\n",
              "      \n",
              "  <style>\n",
              "    .colab-df-container {\n",
              "      display:flex;\n",
              "      flex-wrap:wrap;\n",
              "      gap: 12px;\n",
              "    }\n",
              "\n",
              "    .colab-df-convert {\n",
              "      background-color: #E8F0FE;\n",
              "      border: none;\n",
              "      border-radius: 50%;\n",
              "      cursor: pointer;\n",
              "      display: none;\n",
              "      fill: #1967D2;\n",
              "      height: 32px;\n",
              "      padding: 0 0 0 0;\n",
              "      width: 32px;\n",
              "    }\n",
              "\n",
              "    .colab-df-convert:hover {\n",
              "      background-color: #E2EBFA;\n",
              "      box-shadow: 0px 1px 2px rgba(60, 64, 67, 0.3), 0px 1px 3px 1px rgba(60, 64, 67, 0.15);\n",
              "      fill: #174EA6;\n",
              "    }\n",
              "\n",
              "    [theme=dark] .colab-df-convert {\n",
              "      background-color: #3B4455;\n",
              "      fill: #D2E3FC;\n",
              "    }\n",
              "\n",
              "    [theme=dark] .colab-df-convert:hover {\n",
              "      background-color: #434B5C;\n",
              "      box-shadow: 0px 1px 3px 1px rgba(0, 0, 0, 0.15);\n",
              "      filter: drop-shadow(0px 1px 2px rgba(0, 0, 0, 0.3));\n",
              "      fill: #FFFFFF;\n",
              "    }\n",
              "  </style>\n",
              "\n",
              "      <script>\n",
              "        const buttonEl =\n",
              "          document.querySelector('#df-d56f68d2-2527-4b98-9b20-bd128e464a99 button.colab-df-convert');\n",
              "        buttonEl.style.display =\n",
              "          google.colab.kernel.accessAllowed ? 'block' : 'none';\n",
              "\n",
              "        async function convertToInteractive(key) {\n",
              "          const element = document.querySelector('#df-d56f68d2-2527-4b98-9b20-bd128e464a99');\n",
              "          const dataTable =\n",
              "            await google.colab.kernel.invokeFunction('convertToInteractive',\n",
              "                                                     [key], {});\n",
              "          if (!dataTable) return;\n",
              "\n",
              "          const docLinkHtml = 'Like what you see? Visit the ' +\n",
              "            '<a target=\"_blank\" href=https://colab.research.google.com/notebooks/data_table.ipynb>data table notebook</a>'\n",
              "            + ' to learn more about interactive tables.';\n",
              "          element.innerHTML = '';\n",
              "          dataTable['output_type'] = 'display_data';\n",
              "          await google.colab.output.renderOutput(dataTable, element);\n",
              "          const docLink = document.createElement('div');\n",
              "          docLink.innerHTML = docLinkHtml;\n",
              "          element.appendChild(docLink);\n",
              "        }\n",
              "      </script>\n",
              "    </div>\n",
              "  </div>\n",
              "  "
            ]
          },
          "metadata": {},
          "execution_count": 24
        }
      ]
    },
    {
      "cell_type": "markdown",
      "source": [
        "# Descripcion de las variales\n",
        "\n",
        "* Country: Pais, variable categorica\n",
        "* Total Cases: Total casos, variable numerica \n",
        "* Total Deaths: Total de muertes, variable numerica\n",
        "* Total Recovered: Total de personas recuperadas, variable numerica\n",
        "* Active Cases: Casos activos, variable numerica\n",
        "* Total Test: Total de pruebas, variable numerica\n",
        "* Population: Población del país, variable numerica"
      ],
      "metadata": {
        "id": "cF26IuTy4Jj9"
      }
    },
    {
      "cell_type": "code",
      "source": [
        "df['Total Cases']=df['Total Cases'].str.replace(',', '', regex=True).astype(\"float\")\n",
        "df['Total Deaths']=df['Total Deaths'].str.replace(',', '', regex=True).astype(\"float\")\n",
        "df['Total Recovered']=df['Total Recovered'].str.replace(',', '', regex=True).astype(\"float\")\n",
        "df['Active Cases']=df['Active Cases'].str.replace(',', '', regex=True).astype(\"float\")\n",
        "df['Total Test']=df['Total Test'].str.replace(',', '', regex=True).astype(\"float\")\n",
        "df['Population']=df['Population'].str.replace(',', '', regex=True).astype(\"float\")"
      ],
      "metadata": {
        "id": "2IGYQFdthA-U"
      },
      "execution_count": 25,
      "outputs": []
    },
    {
      "cell_type": "markdown",
      "source": [
        "##Pivot"
      ],
      "metadata": {
        "id": "H3Z_QhrVM4hd"
      }
    },
    {
      "cell_type": "code",
      "source": [
        "my_pivot = pd.pivot_table(df,\n",
        "                          index = ['Country'], \n",
        "                          values = ['Total Recovered','Active Cases'], \n",
        "                          aggfunc = ['mean', 'sum', 'median']\n",
        ")\n",
        "my_pivot.head()"
      ],
      "metadata": {
        "colab": {
          "base_uri": "https://localhost:8080/",
          "height": 269
        },
        "id": "5lkuVsEoM6Wt",
        "outputId": "821a3d66-eb08-4394-a7f0-0732c7bbd70b"
      },
      "execution_count": 51,
      "outputs": [
        {
          "output_type": "execute_result",
          "data": {
            "text/plain": [
              "                    mean                          sum                  \\\n",
              "            Active Cases Total Recovered Active Cases Total Recovered   \n",
              "Country                                                                 \n",
              "Afghanistan      14575.0        186088.0      14575.0        186088.0   \n",
              "Albania           1621.0        328951.0       1621.0        328951.0   \n",
              "Algeria          81748.0        182749.0      81748.0        182749.0   \n",
              "Andorra            111.0         47563.0        111.0         47563.0   \n",
              "Angola              37.0        103216.0         37.0        103216.0   \n",
              "\n",
              "                  median                  \n",
              "            Active Cases Total Recovered  \n",
              "Country                                   \n",
              "Afghanistan      14575.0        186088.0  \n",
              "Albania           1621.0        328951.0  \n",
              "Algeria          81748.0        182749.0  \n",
              "Andorra            111.0         47563.0  \n",
              "Angola              37.0        103216.0  "
            ],
            "text/html": [
              "\n",
              "  <div id=\"df-1561934e-03f4-4d01-bfb1-f85d674f15d3\">\n",
              "    <div class=\"colab-df-container\">\n",
              "      <div>\n",
              "<style scoped>\n",
              "    .dataframe tbody tr th:only-of-type {\n",
              "        vertical-align: middle;\n",
              "    }\n",
              "\n",
              "    .dataframe tbody tr th {\n",
              "        vertical-align: top;\n",
              "    }\n",
              "\n",
              "    .dataframe thead tr th {\n",
              "        text-align: left;\n",
              "    }\n",
              "\n",
              "    .dataframe thead tr:last-of-type th {\n",
              "        text-align: right;\n",
              "    }\n",
              "</style>\n",
              "<table border=\"1\" class=\"dataframe\">\n",
              "  <thead>\n",
              "    <tr>\n",
              "      <th></th>\n",
              "      <th colspan=\"2\" halign=\"left\">mean</th>\n",
              "      <th colspan=\"2\" halign=\"left\">sum</th>\n",
              "      <th colspan=\"2\" halign=\"left\">median</th>\n",
              "    </tr>\n",
              "    <tr>\n",
              "      <th></th>\n",
              "      <th>Active Cases</th>\n",
              "      <th>Total Recovered</th>\n",
              "      <th>Active Cases</th>\n",
              "      <th>Total Recovered</th>\n",
              "      <th>Active Cases</th>\n",
              "      <th>Total Recovered</th>\n",
              "    </tr>\n",
              "    <tr>\n",
              "      <th>Country</th>\n",
              "      <th></th>\n",
              "      <th></th>\n",
              "      <th></th>\n",
              "      <th></th>\n",
              "      <th></th>\n",
              "      <th></th>\n",
              "    </tr>\n",
              "  </thead>\n",
              "  <tbody>\n",
              "    <tr>\n",
              "      <th>Afghanistan</th>\n",
              "      <td>14575.0</td>\n",
              "      <td>186088.0</td>\n",
              "      <td>14575.0</td>\n",
              "      <td>186088.0</td>\n",
              "      <td>14575.0</td>\n",
              "      <td>186088.0</td>\n",
              "    </tr>\n",
              "    <tr>\n",
              "      <th>Albania</th>\n",
              "      <td>1621.0</td>\n",
              "      <td>328951.0</td>\n",
              "      <td>1621.0</td>\n",
              "      <td>328951.0</td>\n",
              "      <td>1621.0</td>\n",
              "      <td>328951.0</td>\n",
              "    </tr>\n",
              "    <tr>\n",
              "      <th>Algeria</th>\n",
              "      <td>81748.0</td>\n",
              "      <td>182749.0</td>\n",
              "      <td>81748.0</td>\n",
              "      <td>182749.0</td>\n",
              "      <td>81748.0</td>\n",
              "      <td>182749.0</td>\n",
              "    </tr>\n",
              "    <tr>\n",
              "      <th>Andorra</th>\n",
              "      <td>111.0</td>\n",
              "      <td>47563.0</td>\n",
              "      <td>111.0</td>\n",
              "      <td>47563.0</td>\n",
              "      <td>111.0</td>\n",
              "      <td>47563.0</td>\n",
              "    </tr>\n",
              "    <tr>\n",
              "      <th>Angola</th>\n",
              "      <td>37.0</td>\n",
              "      <td>103216.0</td>\n",
              "      <td>37.0</td>\n",
              "      <td>103216.0</td>\n",
              "      <td>37.0</td>\n",
              "      <td>103216.0</td>\n",
              "    </tr>\n",
              "  </tbody>\n",
              "</table>\n",
              "</div>\n",
              "      <button class=\"colab-df-convert\" onclick=\"convertToInteractive('df-1561934e-03f4-4d01-bfb1-f85d674f15d3')\"\n",
              "              title=\"Convert this dataframe to an interactive table.\"\n",
              "              style=\"display:none;\">\n",
              "        \n",
              "  <svg xmlns=\"http://www.w3.org/2000/svg\" height=\"24px\"viewBox=\"0 0 24 24\"\n",
              "       width=\"24px\">\n",
              "    <path d=\"M0 0h24v24H0V0z\" fill=\"none\"/>\n",
              "    <path d=\"M18.56 5.44l.94 2.06.94-2.06 2.06-.94-2.06-.94-.94-2.06-.94 2.06-2.06.94zm-11 1L8.5 8.5l.94-2.06 2.06-.94-2.06-.94L8.5 2.5l-.94 2.06-2.06.94zm10 10l.94 2.06.94-2.06 2.06-.94-2.06-.94-.94-2.06-.94 2.06-2.06.94z\"/><path d=\"M17.41 7.96l-1.37-1.37c-.4-.4-.92-.59-1.43-.59-.52 0-1.04.2-1.43.59L10.3 9.45l-7.72 7.72c-.78.78-.78 2.05 0 2.83L4 21.41c.39.39.9.59 1.41.59.51 0 1.02-.2 1.41-.59l7.78-7.78 2.81-2.81c.8-.78.8-2.07 0-2.86zM5.41 20L4 18.59l7.72-7.72 1.47 1.35L5.41 20z\"/>\n",
              "  </svg>\n",
              "      </button>\n",
              "      \n",
              "  <style>\n",
              "    .colab-df-container {\n",
              "      display:flex;\n",
              "      flex-wrap:wrap;\n",
              "      gap: 12px;\n",
              "    }\n",
              "\n",
              "    .colab-df-convert {\n",
              "      background-color: #E8F0FE;\n",
              "      border: none;\n",
              "      border-radius: 50%;\n",
              "      cursor: pointer;\n",
              "      display: none;\n",
              "      fill: #1967D2;\n",
              "      height: 32px;\n",
              "      padding: 0 0 0 0;\n",
              "      width: 32px;\n",
              "    }\n",
              "\n",
              "    .colab-df-convert:hover {\n",
              "      background-color: #E2EBFA;\n",
              "      box-shadow: 0px 1px 2px rgba(60, 64, 67, 0.3), 0px 1px 3px 1px rgba(60, 64, 67, 0.15);\n",
              "      fill: #174EA6;\n",
              "    }\n",
              "\n",
              "    [theme=dark] .colab-df-convert {\n",
              "      background-color: #3B4455;\n",
              "      fill: #D2E3FC;\n",
              "    }\n",
              "\n",
              "    [theme=dark] .colab-df-convert:hover {\n",
              "      background-color: #434B5C;\n",
              "      box-shadow: 0px 1px 3px 1px rgba(0, 0, 0, 0.15);\n",
              "      filter: drop-shadow(0px 1px 2px rgba(0, 0, 0, 0.3));\n",
              "      fill: #FFFFFF;\n",
              "    }\n",
              "  </style>\n",
              "\n",
              "      <script>\n",
              "        const buttonEl =\n",
              "          document.querySelector('#df-1561934e-03f4-4d01-bfb1-f85d674f15d3 button.colab-df-convert');\n",
              "        buttonEl.style.display =\n",
              "          google.colab.kernel.accessAllowed ? 'block' : 'none';\n",
              "\n",
              "        async function convertToInteractive(key) {\n",
              "          const element = document.querySelector('#df-1561934e-03f4-4d01-bfb1-f85d674f15d3');\n",
              "          const dataTable =\n",
              "            await google.colab.kernel.invokeFunction('convertToInteractive',\n",
              "                                                     [key], {});\n",
              "          if (!dataTable) return;\n",
              "\n",
              "          const docLinkHtml = 'Like what you see? Visit the ' +\n",
              "            '<a target=\"_blank\" href=https://colab.research.google.com/notebooks/data_table.ipynb>data table notebook</a>'\n",
              "            + ' to learn more about interactive tables.';\n",
              "          element.innerHTML = '';\n",
              "          dataTable['output_type'] = 'display_data';\n",
              "          await google.colab.output.renderOutput(dataTable, element);\n",
              "          const docLink = document.createElement('div');\n",
              "          docLink.innerHTML = docLinkHtml;\n",
              "          element.appendChild(docLink);\n",
              "        }\n",
              "      </script>\n",
              "    </div>\n",
              "  </div>\n",
              "  "
            ]
          },
          "metadata": {},
          "execution_count": 51
        }
      ]
    },
    {
      "cell_type": "markdown",
      "source": [
        "## Gráfica de barras con los paises con mayor porcentaje de muertes"
      ],
      "metadata": {
        "id": "lrmpuw-5y7bx"
      }
    },
    {
      "cell_type": "code",
      "source": [
        "df['percentage of patients death'] = df['Total Deaths']/df['Total Cases']*100\n",
        "df[['Country','percentage of patients death']].head()"
      ],
      "metadata": {
        "id": "dmgTBSbRgNGg"
      },
      "execution_count": null,
      "outputs": []
    },
    {
      "cell_type": "code",
      "source": [
        "percentage_of_death = df[['Country', 'percentage of patients death']].sort_values(by = 'percentage of patients death', ascending=False)\n",
        "percentage_of_death[:10]"
      ],
      "metadata": {
        "id": "Ab5OPH58zYRf"
      },
      "execution_count": null,
      "outputs": []
    },
    {
      "cell_type": "code",
      "source": [
        "percentage_of_death[:10].plot(kind='bar', \n",
        "                        x='Country', \n",
        "                        y='percentage of patients death', \n",
        "                        color='red', \n",
        "                        title='Percentage of death');"
      ],
      "metadata": {
        "colab": {
          "base_uri": "https://localhost:8080/",
          "height": 407
        },
        "id": "udyCq0W1zBcT",
        "outputId": "101147df-b511-4755-e328-4d28aa1ea2c5"
      },
      "execution_count": 29,
      "outputs": [
        {
          "output_type": "display_data",
          "data": {
            "text/plain": [
              "<Figure size 432x288 with 1 Axes>"
            ],
            "image/png": "[encoded data removed]"
          },
          "metadata": {
            "needs_background": "light"
          }
        }
      ]
    },
    {
      "cell_type": "markdown",
      "source": [
        "## Conclusion\n",
        "\n",
        "En esta gráfica podemos ver los 10 paises con porcentaje mas alto de muertes."
      ],
      "metadata": {
        "id": "8CeyU-3L41LP"
      }
    },
    {
      "cell_type": "markdown",
      "source": [
        "## Saca el número de gente recuperada por caso"
      ],
      "metadata": {
        "id": "XoTSp-_c1KII"
      }
    },
    {
      "cell_type": "code",
      "source": [
        "df['recovered by cases'] = df['Total Cases']-df['Total Recovered']\n",
        "best_recovery = df[['Country','recovered by cases']].sort_values(by='recovered by cases',ascending=False)\n",
        "best_recovery[:10]"
      ],
      "metadata": {
        "id": "OXm0IUXVs-Sq"
      },
      "execution_count": null,
      "outputs": []
    },
    {
      "cell_type": "code",
      "source": [
        "best_recovery[:10].plot(kind='bar', \n",
        "                        x='Country', \n",
        "                        y='recovered by cases', \n",
        "                        color='Blue', \n",
        "                        title='Best Recovery');"
      ],
      "metadata": {
        "colab": {
          "base_uri": "https://localhost:8080/",
          "height": 327
        },
        "id": "RWSJRPWkxfd9",
        "outputId": "51288bcb-2313-47bd-fc7a-8416cb779f6b"
      },
      "execution_count": 31,
      "outputs": [
        {
          "output_type": "display_data",
          "data": {
            "text/plain": [
              "<Figure size 432x288 with 1 Axes>"
            ],
            "image/png": "[encoded data removed]"
          },
          "metadata": {
            "needs_background": "light"
          }
        }
      ]
    },
    {
      "cell_type": "markdown",
      "source": [
        "##Realiza una grafica que puedas comparar la cantidad de casos contra la población de cada pais."
      ],
      "metadata": {
        "id": "-2OntXSiPQ4S"
      }
    },
    {
      "cell_type": "code",
      "source": [
        "plt.scatter(df['Population'], df['Total Cases'])\n",
        "\n",
        "plt.xlabel('Population')\n",
        "plt.ylabel('Total Cases')\n",
        "plt.title('Total Cases vs Population')\n",
        "\n",
        "plt.show()"
      ],
      "metadata": {
        "colab": {
          "base_uri": "https://localhost:8080/",
          "height": 295
        },
        "id": "QsMLtj0cMKh2",
        "outputId": "521d87d3-c3b2-42af-ca67-29cea008d702"
      },
      "execution_count": 32,
      "outputs": [
        {
          "output_type": "display_data",
          "data": {
            "text/plain": [
              "<Figure size 432x288 with 1 Axes>"
            ],
            "image/png": "[encoded data removed]"
          },
          "metadata": {
            "needs_background": "light"
          }
        }
      ]
    },
    {
      "cell_type": "markdown",
      "source": [
        "En esta gráfica podemos ver como en dos casos hay discrepancia, en uno que tiene pocos casos en relación con su población y en el otro muchisimos casos en comparación de la población."
      ],
      "metadata": {
        "id": "w6zMqQuqpxkE"
      }
    },
    {
      "cell_type": "markdown",
      "source": [
        "##Realiza un histograma de la distribucion de casos por pais"
      ],
      "metadata": {
        "id": "Zdgnqvi1RN3E"
      }
    },
    {
      "cell_type": "code",
      "source": [
        "plt.figure(figsize=(12, 6))\n",
        "sns.histplot(data=df, x=\"Total Cases\", bins=30, kde=True)\n",
        "plt.title(\"Distribución de casos totales por pais\")\n",
        "plt.xlabel(\"Total Cases\")\n",
        "plt.ylabel(\"Count\")\n",
        "plt.show()"
      ],
      "metadata": {
        "colab": {
          "base_uri": "https://localhost:8080/",
          "height": 404
        },
        "id": "YpdDviLsPOic",
        "outputId": "5af9fac8-fe22-466e-81a8-5d351661511a"
      },
      "execution_count": 56,
      "outputs": [
        {
          "output_type": "display_data",
          "data": {
            "text/plain": [
              "<Figure size 864x432 with 1 Axes>"
            ],
            "image/png": "[encoded data removed]"
          },
          "metadata": {
            "needs_background": "light"
          }
        }
      ]
    },
    {
      "cell_type": "markdown",
      "source": [
        "en este grafico podemos ver la distribución del total de casos por paises"
      ],
      "metadata": {
        "id": "5LToC8qhqnJp"
      }
    },
    {
      "cell_type": "markdown",
      "source": [
        "##Realiza un boxplot de el total de casos por paises"
      ],
      "metadata": {
        "id": "QmvvRqSAnBl3"
      }
    },
    {
      "cell_type": "code",
      "source": [
        "sns.boxplot(x='Country', y='Total Cases', data=df.head(10))\n",
        "\n",
        "plt.xlabel('Country')\n",
        "plt.ylabel('Total Cases')\n",
        "plt.title('Total Cases por apais')\n",
        "\n",
        "plt.show()"
      ],
      "metadata": {
        "colab": {
          "base_uri": "https://localhost:8080/",
          "height": 295
        },
        "id": "dvJfJkYigvvo",
        "outputId": "e433e860-75b7-4800-f24b-c44445eb9a13"
      },
      "execution_count": 58,
      "outputs": [
        {
          "output_type": "display_data",
          "data": {
            "text/plain": [
              "<Figure size 432x288 with 1 Axes>"
            ],
            "image/png": "[encoded data removed]"
          },
          "metadata": {
            "needs_background": "light"
          }
        }
      ]
    },
    {
      "cell_type": "markdown",
      "source": [
        "En este grafico de boxplot podemos llegar a observar los diferentes totales de casos de los 10 principales paises"
      ],
      "metadata": {
        "id": "IvNSu68-rIl6"
      }
    },
    {
      "cell_type": "markdown",
      "source": [
        "##Realiza un pie chart de los 10 paises con el mayor número de casos activos"
      ],
      "metadata": {
        "id": "DhMA7CzsmCKH"
      }
    },
    {
      "cell_type": "code",
      "source": [
        "most_active_cases=df[['Country','Active Cases']].sort_values(by='Active Cases',ascending=False).head(10)\n",
        "most_active_cases"
      ],
      "metadata": {
        "id": "SRqQwDOvj2Bx"
      },
      "execution_count": null,
      "outputs": []
    },
    {
      "cell_type": "code",
      "source": [
        "plt.figure(figsize=(7,7))\n",
        "plt.title(\"Los primeros 10 pauses con el mayor numeros de casos activos\")\n",
        "plt.pie(most_active_cases['Active Cases'],\n",
        "        labels=most_active_cases['Country'],\n",
        "        autopct='%0.2f%%')"
      ],
      "metadata": {
        "colab": {
          "base_uri": "https://localhost:8080/",
          "height": 948
        },
        "id": "bSh2q_9Bie0f",
        "outputId": "61dbc003-a60e-4ff4-c82e-7ba448660b52"
      },
      "execution_count": 59,
      "outputs": [
        {
          "output_type": "execute_result",
          "data": {
            "text/plain": [
              "([<matplotlib.patches.Wedge at 0x7f05f6654c70>,\n",
              "  <matplotlib.patches.Wedge at 0x7f05f66623d0>,\n",
              "  <matplotlib.patches.Wedge at 0x7f05f6662af0>,\n",
              "  <matplotlib.patches.Wedge at 0x7f05f666e250>,\n",
              "  <matplotlib.patches.Wedge at 0x7f05f666e970>,\n",
              "  <matplotlib.patches.Wedge at 0x7f05f65fc0d0>,\n",
              "  <matplotlib.patches.Wedge at 0x7f05f65fc7f0>,\n",
              "  <matplotlib.patches.Wedge at 0x7f05f65fcf10>,\n",
              "  <matplotlib.patches.Wedge at 0x7f05f660a670>,\n",
              "  <matplotlib.patches.Wedge at 0x7f05f660ad90>],\n",
              " [Text(-0.5186822753307824, 0.9700354103112332, 'Japan'),\n",
              "  Text(-0.2838286698412306, -1.0627517519045349, 'USA'),\n",
              "  Text(0.2625675341871994, -1.0682032999344526, 'Poland'),\n",
              "  Text(0.6020843623538015, -0.9205946016618913, 'Vietnam'),\n",
              "  Text(0.8072313547736724, -0.7472466392498942, 'Mexico'),\n",
              "  Text(0.9163114870065274, -0.6085829925161291, 'Taiwan'),\n",
              "  Text(1.0012451010508314, -0.45553073180819603, 'S. Korea'),\n",
              "  Text(1.056954561107805, -0.30470814848541156, 'Hong Kong'),\n",
              "  Text(1.086912535460025, -0.16917783619570292, 'Costa Rica'),\n",
              "  Text(1.0987627793214525, -0.052157020407585034, 'Italy')],\n",
              " [Text(-0.2829176047258813, 0.5291102238061272, '65.63%'),\n",
              "  Text(-0.1548156380952167, -0.5796827737661098, '10.43%'),\n",
              "  Text(0.14321865501119968, -0.5826563454187922, '5.55%'),\n",
              "  Text(0.3284096521929826, -0.5021425099973952, '5.22%'),\n",
              "  Text(0.4403080116947304, -0.4075890759544877, '2.57%'),\n",
              "  Text(0.499806265639924, -0.3319543595542522, '2.54%'),\n",
              "  Text(0.5461336914822715, -0.24847130825901598, '2.53%'),\n",
              "  Text(0.5765206696951662, -0.1662044446284063, '2.12%'),\n",
              "  Text(0.5928613829781954, -0.09227881974311067, '1.90%'),\n",
              "  Text(0.5993251523571559, -0.028449283858682742, '1.51%')])"
            ]
          },
          "metadata": {},
          "execution_count": 59
        },
        {
          "output_type": "display_data",
          "data": {
            "text/plain": [
              "<Figure size 504x504 with 1 Axes>"
            ],
            "image/png": "[encoded data removed]"
          },
          "metadata": {}
        }
      ]
    },
    {
      "cell_type": "markdown",
      "source": [
        "En esta gráfica podemos ver de como japon tiene una enorme diferencia de casos activos a comparación al resto de los otros paises."
      ],
      "metadata": {
        "id": "nIDuDwG8rmxe"
      }
    },
    {
      "cell_type": "code",
      "source": [],
      "metadata": {
        "id": "vh9u5KYxi_-q"
      },
      "execution_count": null,
      "outputs": []
    }
  ]
}